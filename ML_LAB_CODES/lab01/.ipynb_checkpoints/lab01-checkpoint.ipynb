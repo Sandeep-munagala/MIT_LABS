{
 "cells": [
  {
   "cell_type": "code",
   "execution_count": 47,
   "metadata": {},
   "outputs": [],
   "source": [
    "###_LAB01_"
   ]
  },
  {
   "cell_type": "code",
   "execution_count": 90,
   "metadata": {},
   "outputs": [
    {
     "data": {
      "text/plain": [
       "array([[0, 1, 2],\n",
       "       [3, 4, 5],\n",
       "       [6, 7, 8]])"
      ]
     },
     "execution_count": 90,
     "metadata": {},
     "output_type": "execute_result"
    }
   ],
   "source": [
    "#Convert a 1-D array into a 2-D array with 3 rows\n",
    "import numpy as np\n",
    "a = np.array([0, 1, 2, 3, 4, 5, 6, 7, 8])\n",
    "a.reshape([3,-1])"
   ]
  },
  {
   "cell_type": "code",
   "execution_count": 17,
   "metadata": {},
   "outputs": [
    {
     "data": {
      "text/plain": [
       "array([ 0, -1,  2, -1,  4, -1,  6, -1,  8, -1])"
      ]
     },
     "execution_count": 17,
     "metadata": {},
     "output_type": "execute_result"
    }
   ],
   "source": [
    "#Replace all odd numbers in the given array with -1\n",
    "b = np.array([0, 1, 2, 3, 4, 5, 6, 7, 8, 9])\n",
    "b[b%2 != 0] = -1\n",
    "b"
   ]
  },
  {
   "cell_type": "code",
   "execution_count": 26,
   "metadata": {},
   "outputs": [
    {
     "data": {
      "text/plain": [
       "array([1, 2, 4, 5, 6, 7, 8, 9])"
      ]
     },
     "execution_count": 26,
     "metadata": {},
     "output_type": "execute_result"
    }
   ],
   "source": [
    "#ind the positions of:\n",
    "#elements in x where its value is more than its corresponding element in y, and elements in x where its value is\n",
    "#equals to its corresponding element in y.\n",
    "x = np.array([21, 64, 86, 22, 74, 55, 81, 79, 90, 89])\n",
    "y = np.array([21, 7, 3, 45, 10, 29, 55, 4, 37, 18])\n",
    "np.where(x>y)[0]\n"
   ]
  },
  {
   "cell_type": "code",
   "execution_count": 27,
   "metadata": {},
   "outputs": [
    {
     "data": {
      "text/plain": [
       "array([0])"
      ]
     },
     "execution_count": 27,
     "metadata": {},
     "output_type": "execute_result"
    }
   ],
   "source": [
    "np.where(x==y)[0]"
   ]
  },
  {
   "cell_type": "code",
   "execution_count": 39,
   "metadata": {},
   "outputs": [
    {
     "data": {
      "text/plain": [
       "array([[ 0,  1,  2,  3],\n",
       "       [20, 21, 22, 23],\n",
       "       [40, 41, 42, 43],\n",
       "       [60, 61, 62, 63],\n",
       "       [80, 81, 82, 83]])"
      ]
     },
     "execution_count": 39,
     "metadata": {},
     "output_type": "execute_result"
    }
   ],
   "source": [
    "#Extract the first four columns of this 2-D array.\n",
    "m = np.arange(100).reshape(5,-1)\n",
    "m[:,:4]"
   ]
  },
  {
   "cell_type": "code",
   "execution_count": 96,
   "metadata": {},
   "outputs": [
    {
     "data": {
      "text/plain": [
       "array([39, 33, 34, 30, 39, 31, 39, 31, 34, 31])"
      ]
     },
     "execution_count": 96,
     "metadata": {},
     "output_type": "execute_result"
    }
   ],
   "source": [
    "#additional excercise.\n",
    "#Generate a 1-D array of 10 random integers. Each integer should be a number between 30 and 40 (inclusive).\n",
    "np.random.seed(6)\n",
    "np.random.randint(low = 30, high = 40, size = 10)"
   ]
  },
  {
   "cell_type": "code",
   "execution_count": 54,
   "metadata": {},
   "outputs": [],
   "source": [
    "A = ((1, 2, 3), (4, 5, 6), (7, 8, 10))\n",
    "A = np.asarray(A)\n",
    "B = ((7, 8, 10) ,(4, 5, 6), (1, 2, 3))\n",
    "B = np.asarray(B)"
   ]
  },
  {
   "cell_type": "code",
   "execution_count": 60,
   "metadata": {},
   "outputs": [
    {
     "name": "stdout",
     "output_type": "stream",
     "text": [
      "the subtraction of two matrices is :\n",
      " [[-6 -6 -7]\n",
      " [ 0  0  0]\n",
      " [ 6  6  7]]\n",
      "the addition of two matrices is :\n",
      " [[ 8 10 13]\n",
      " [ 8 10 12]\n",
      " [ 8 10 13]]\n"
     ]
    }
   ],
   "source": [
    "#Add and Subtract of the Matrix A and B, print the resultant matrix C for add and E for subtract.\n",
    "E = A-B\n",
    "print(\"the subtraction of two matrices is :\\n\",E)\n",
    "C = A+B\n",
    "print(\"the addition of two matrices is :\\n\",C)"
   ]
  },
  {
   "cell_type": "code",
   "execution_count": 66,
   "metadata": {},
   "outputs": [
    {
     "name": "stdout",
     "output_type": "stream",
     "text": [
      "sum of all elements of a : 46\n",
      "sum of each column of b : [12 15 19]\n",
      "sum of each row of c : [25 15  6]\n"
     ]
    }
   ],
   "source": [
    "#Compute the sum of all elements of Matrix A, sum of each column of Matrix B and sum of each row of Matrix C\n",
    "print(\"sum of all elements of a :\",A.sum())\n",
    "print(\"sum of each column of b :\",B.sum(axis = 0))\n",
    "print(\"sum of each row of c :\",B.sum(axis = 1))"
   ]
  },
  {
   "cell_type": "code",
   "execution_count": 81,
   "metadata": {},
   "outputs": [
    {
     "name": "stdout",
     "output_type": "stream",
     "text": [
      "product of two matrices :\n",
      " [[ 7 16 30]\n",
      " [16 25 36]\n",
      " [ 7 16 30]]\n",
      "dot product of two matrices :\n",
      " [[ 18  24  31]\n",
      " [ 54  69  88]\n",
      " [ 91 116 148]]\n"
     ]
    }
   ],
   "source": [
    "#Product of two matrices A and B, and print the resultant matrix D\n",
    "D = A*B\n",
    "K = A@B\n",
    "print(\"product of two matrices :\\n\",D)\n",
    "print(\"dot product of two matrices :\\n\",K)"
   ]
  },
  {
   "cell_type": "code",
   "execution_count": 78,
   "metadata": {},
   "outputs": [
    {
     "name": "stdout",
     "output_type": "stream",
     "text": [
      "flatten sort : [ 8  8  8 10 10 10 12 13 13]\n"
     ]
    },
    {
     "data": {
      "text/plain": [
       "array([[ 8, 10, 12],\n",
       "       [ 8, 10, 13],\n",
       "       [ 8, 10, 13]])"
      ]
     },
     "execution_count": 78,
     "metadata": {},
     "output_type": "execute_result"
    }
   ],
   "source": [
    "#Sort the elements of resultant matrix C and print the resultant Matrix E.\n",
    "print(\"flatten sort :\",np.sort(C,axis = None))\n",
    "np.sort(C,axis = 0)"
   ]
  },
  {
   "cell_type": "code",
   "execution_count": 79,
   "metadata": {},
   "outputs": [
    {
     "name": "stdout",
     "output_type": "stream",
     "text": [
      "the transpose of matrix E is :\n",
      " [[-6  0  6]\n",
      " [-6  0  6]\n",
      " [-7  0  7]]\n"
     ]
    }
   ],
   "source": [
    "#Transpose the Matrix E and print the result\n",
    "print(\"the transpose of matrix E is :\\n\",E.T)"
   ]
  },
  {
   "cell_type": "code",
   "execution_count": 89,
   "metadata": {},
   "outputs": [
    {
     "name": "stdout",
     "output_type": "stream",
     "text": [
      "['Programming language', ' Designed by', ' Appeared', ' Extension']\n",
      "['Python', ' Guido van Rossum', ' 1991', ' .py']\n",
      "['Java', ' James Gosling', ' 1995', ' .java']\n",
      "['C++', ' Bjarne Stroustrup', ' 1983', ' .cpp']\n"
     ]
    }
   ],
   "source": [
    "import csv\n",
    "with open(\"lab01.csv\") as f:\n",
    "    data = csv.reader(f)\n",
    "    for rows in data:\n",
    "        print(rows)"
   ]
  },
  {
   "cell_type": "code",
   "execution_count": 97,
   "metadata": {},
   "outputs": [
    {
     "name": "stdout",
     "output_type": "stream",
     "text": [
      "  Programming language         Designed by   Appeared  Extension\n",
      "0               Python    Guido van Rossum       1991        .py\n",
      "1                 Java       James Gosling       1995      .java\n",
      "2                  C++   Bjarne Stroustrup       1983       .cpp\n"
     ]
    }
   ],
   "source": [
    "import pandas as pd\n",
    "result = pd.read_csv(\"lab01.csv\")\n",
    "print(result)"
   ]
  },
  {
   "cell_type": "code",
   "execution_count": null,
   "metadata": {},
   "outputs": [],
   "source": []
  }
 ],
 "metadata": {
  "kernelspec": {
   "display_name": "Python 3 (ipykernel)",
   "language": "python",
   "name": "python3"
  },
  "language_info": {
   "codemirror_mode": {
    "name": "ipython",
    "version": 3
   },
   "file_extension": ".py",
   "mimetype": "text/x-python",
   "name": "python",
   "nbconvert_exporter": "python",
   "pygments_lexer": "ipython3",
   "version": "3.10.9"
  }
 },
 "nbformat": 4,
 "nbformat_minor": 2
}
