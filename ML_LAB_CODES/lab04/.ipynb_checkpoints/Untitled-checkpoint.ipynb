{
 "cells": [
  {
   "cell_type": "code",
   "execution_count": 1,
   "id": "11f5a9b7",
   "metadata": {},
   "outputs": [],
   "source": [
    "import pandas as pd\n",
    "df = pd.read_csv(\"gold.csv\")"
   ]
  },
  {
   "cell_type": "code",
   "execution_count": 2,
   "id": "c7809769",
   "metadata": {},
   "outputs": [
    {
     "data": {
      "text/html": [
       "<div>\n",
       "<style scoped>\n",
       "    .dataframe tbody tr th:only-of-type {\n",
       "        vertical-align: middle;\n",
       "    }\n",
       "\n",
       "    .dataframe tbody tr th {\n",
       "        vertical-align: top;\n",
       "    }\n",
       "\n",
       "    .dataframe thead th {\n",
       "        text-align: right;\n",
       "    }\n",
       "</style>\n",
       "<table border=\"1\" class=\"dataframe\">\n",
       "  <thead>\n",
       "    <tr style=\"text-align: right;\">\n",
       "      <th></th>\n",
       "      <th>Year</th>\n",
       "      <th>Price</th>\n",
       "    </tr>\n",
       "  </thead>\n",
       "  <tbody>\n",
       "    <tr>\n",
       "      <th>0</th>\n",
       "      <td>2022</td>\n",
       "      <td>52950</td>\n",
       "    </tr>\n",
       "    <tr>\n",
       "      <th>1</th>\n",
       "      <td>2021</td>\n",
       "      <td>50045</td>\n",
       "    </tr>\n",
       "    <tr>\n",
       "      <th>2</th>\n",
       "      <td>2020</td>\n",
       "      <td>48651</td>\n",
       "    </tr>\n",
       "    <tr>\n",
       "      <th>3</th>\n",
       "      <td>2019</td>\n",
       "      <td>35220</td>\n",
       "    </tr>\n",
       "    <tr>\n",
       "      <th>4</th>\n",
       "      <td>2018</td>\n",
       "      <td>31438</td>\n",
       "    </tr>\n",
       "  </tbody>\n",
       "</table>\n",
       "</div>"
      ],
      "text/plain": [
       "   Year  Price\n",
       "0  2022  52950\n",
       "1  2021  50045\n",
       "2  2020  48651\n",
       "3  2019  35220\n",
       "4  2018  31438"
      ]
     },
     "execution_count": 2,
     "metadata": {},
     "output_type": "execute_result"
    }
   ],
   "source": [
    "df.head()"
   ]
  },
  {
   "cell_type": "code",
   "execution_count": 3,
   "id": "e87bfa3f",
   "metadata": {},
   "outputs": [],
   "source": [
    "x = df['Year']\n",
    "y = df['Price']"
   ]
  },
  {
   "cell_type": "code",
   "execution_count": 4,
   "id": "b455ac74",
   "metadata": {},
   "outputs": [],
   "source": [
    "import numpy as np\n",
    "b1 = np.sum((x-np.mean(x))*(y-np.mean(y)))/np.sum(((x-np.mean(x))*(x-np.mean(x))))\n",
    "df['sx'] = x-np.mean(x)\n",
    "df['sy'] = y-np.mean(y)"
   ]
  },
  {
   "cell_type": "code",
   "execution_count": 5,
   "id": "5ddd060a",
   "metadata": {},
   "outputs": [
    {
     "data": {
      "text/html": [
       "<div>\n",
       "<style scoped>\n",
       "    .dataframe tbody tr th:only-of-type {\n",
       "        vertical-align: middle;\n",
       "    }\n",
       "\n",
       "    .dataframe tbody tr th {\n",
       "        vertical-align: top;\n",
       "    }\n",
       "\n",
       "    .dataframe thead th {\n",
       "        text-align: right;\n",
       "    }\n",
       "</style>\n",
       "<table border=\"1\" class=\"dataframe\">\n",
       "  <thead>\n",
       "    <tr style=\"text-align: right;\">\n",
       "      <th></th>\n",
       "      <th>Year</th>\n",
       "      <th>Price</th>\n",
       "      <th>sx</th>\n",
       "      <th>sy</th>\n",
       "    </tr>\n",
       "  </thead>\n",
       "  <tbody>\n",
       "    <tr>\n",
       "      <th>0</th>\n",
       "      <td>2022</td>\n",
       "      <td>52950</td>\n",
       "      <td>28.5</td>\n",
       "      <td>42879.12069</td>\n",
       "    </tr>\n",
       "    <tr>\n",
       "      <th>1</th>\n",
       "      <td>2021</td>\n",
       "      <td>50045</td>\n",
       "      <td>27.5</td>\n",
       "      <td>39974.12069</td>\n",
       "    </tr>\n",
       "    <tr>\n",
       "      <th>2</th>\n",
       "      <td>2020</td>\n",
       "      <td>48651</td>\n",
       "      <td>26.5</td>\n",
       "      <td>38580.12069</td>\n",
       "    </tr>\n",
       "    <tr>\n",
       "      <th>3</th>\n",
       "      <td>2019</td>\n",
       "      <td>35220</td>\n",
       "      <td>25.5</td>\n",
       "      <td>25149.12069</td>\n",
       "    </tr>\n",
       "    <tr>\n",
       "      <th>4</th>\n",
       "      <td>2018</td>\n",
       "      <td>31438</td>\n",
       "      <td>24.5</td>\n",
       "      <td>21367.12069</td>\n",
       "    </tr>\n",
       "  </tbody>\n",
       "</table>\n",
       "</div>"
      ],
      "text/plain": [
       "   Year  Price    sx           sy\n",
       "0  2022  52950  28.5  42879.12069\n",
       "1  2021  50045  27.5  39974.12069\n",
       "2  2020  48651  26.5  38580.12069\n",
       "3  2019  35220  25.5  25149.12069\n",
       "4  2018  31438  24.5  21367.12069"
      ]
     },
     "execution_count": 5,
     "metadata": {},
     "output_type": "execute_result"
    }
   ],
   "source": [
    "df.head()"
   ]
  },
  {
   "cell_type": "code",
   "execution_count": 6,
   "id": "0aa4b50d",
   "metadata": {},
   "outputs": [
    {
     "data": {
      "text/plain": [
       "675.3436586791352"
      ]
     },
     "execution_count": 6,
     "metadata": {},
     "output_type": "execute_result"
    }
   ],
   "source": [
    "np.sum(df['sx']*df['sy'])/np.sum(df['sx']*df['sx'])"
   ]
  },
  {
   "cell_type": "code",
   "execution_count": 7,
   "id": "f0f0d28e",
   "metadata": {},
   "outputs": [
    {
     "data": {
      "text/plain": [
       "675.3436586791352"
      ]
     },
     "execution_count": 7,
     "metadata": {},
     "output_type": "execute_result"
    }
   ],
   "source": [
    "b1"
   ]
  },
  {
   "cell_type": "code",
   "execution_count": 8,
   "id": "b8a995d1",
   "metadata": {},
   "outputs": [
    {
     "data": {
      "text/plain": [
       "-1336226.7042665111"
      ]
     },
     "execution_count": 8,
     "metadata": {},
     "output_type": "execute_result"
    }
   ],
   "source": [
    "b0 = np.mean(y) - (b1*np.mean(x))\n",
    "b0"
   ]
  },
  {
   "cell_type": "code",
   "execution_count": 9,
   "id": "33a7fb4a",
   "metadata": {},
   "outputs": [],
   "source": [
    "from sklearn.linear_model import LinearRegression\n",
    "from sklearn.model_selection import train_test_split"
   ]
  },
  {
   "cell_type": "code",
   "execution_count": 10,
   "id": "3fd98e52",
   "metadata": {},
   "outputs": [],
   "source": [
    "x = np.array(df[['Year']])\n",
    "train_x,test_x,train_y,test_y = train_test_split(x,y,test_size = 0.2,random_state = 0)"
   ]
  },
  {
   "cell_type": "code",
   "execution_count": 11,
   "id": "a86081b1",
   "metadata": {},
   "outputs": [],
   "source": [
    "regr = LinearRegression()"
   ]
  },
  {
   "cell_type": "code",
   "execution_count": 12,
   "id": "ec1470f8",
   "metadata": {},
   "outputs": [],
   "source": [
    "model = regr.fit(train_x,train_y)"
   ]
  },
  {
   "cell_type": "code",
   "execution_count": 13,
   "id": "d628f979",
   "metadata": {},
   "outputs": [
    {
     "data": {
      "text/plain": [
       "array([ 5653.46337736,  6269.28072788,  1342.74192368, 10580.00218155,\n",
       "       20433.07978994, 25975.43594466,  6885.09807841,  -504.71012789,\n",
       "       13659.08893417, -2352.16217946, 24743.80124362, 21048.89714047])"
      ]
     },
     "execution_count": 13,
     "metadata": {},
     "output_type": "execute_result"
    }
   ],
   "source": [
    "y_hat = model.predict(test_x)\n",
    "y_hat"
   ]
  },
  {
   "cell_type": "code",
   "execution_count": 14,
   "id": "f628ae6b",
   "metadata": {},
   "outputs": [],
   "source": [
    "from sklearn.metrics import mean_squared_error"
   ]
  },
  {
   "cell_type": "code",
   "execution_count": 15,
   "id": "3867aa86",
   "metadata": {},
   "outputs": [
    {
     "data": {
      "text/plain": [
       "71474983.37616874"
      ]
     },
     "execution_count": 15,
     "metadata": {},
     "output_type": "execute_result"
    }
   ],
   "source": [
    "mean_squared_error(test_y,y_hat)"
   ]
  },
  {
   "cell_type": "code",
   "execution_count": 21,
   "id": "0e50aba4",
   "metadata": {},
   "outputs": [
    {
     "name": "stdout",
     "output_type": "stream",
     "text": [
      "(58, 2)\n"
     ]
    },
    {
     "data": {
      "text/plain": [
       "-7.922594802946753e+231"
      ]
     },
     "execution_count": 21,
     "metadata": {},
     "output_type": "execute_result"
    }
   ],
   "source": [
    "#if we neeed to do it for 5 epochs lets go on with the task\n",
    "df = pd.read_csv(\"gold.csv\")\n",
    "b1 = 0.0\n",
    "b0 = 0.0\n",
    "alpha = 0.01\n",
    "weights = []\n",
    "bias = []\n",
    "error = []\n",
    "x = np.array(df['Year'])\n",
    "y = np.array(df['Price'])\n",
    "print(df.shape)\n",
    "for i in range(5):\n",
    "    for j in range(df.shape[0]):\n",
    "        y_pred = ((b1*x[j])+b0)\n",
    "        delta = y_pred - y[j]\n",
    "        error.append(delta)\n",
    "        b0 = b0 - (alpha*delta)\n",
    "        b1 = b1 - (alpha*delta*x[j])\n",
    "        b.append(b1)\n"
   ]
  },
  {
   "cell_type": "code",
   "execution_count": null,
   "id": "57657a31",
   "metadata": {},
   "outputs": [],
   "source": []
  },
  {
   "cell_type": "code",
   "execution_count": null,
   "id": "2f84cd37",
   "metadata": {},
   "outputs": [],
   "source": []
  }
 ],
 "metadata": {
  "kernelspec": {
   "display_name": "Python 3 (ipykernel)",
   "language": "python",
   "name": "python3"
  },
  "language_info": {
   "codemirror_mode": {
    "name": "ipython",
    "version": 3
   },
   "file_extension": ".py",
   "mimetype": "text/x-python",
   "name": "python",
   "nbconvert_exporter": "python",
   "pygments_lexer": "ipython3",
   "version": "3.10.9"
  }
 },
 "nbformat": 4,
 "nbformat_minor": 5
}
