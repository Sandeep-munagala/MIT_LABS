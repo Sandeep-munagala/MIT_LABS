{
 "cells": [
  {
   "cell_type": "code",
   "execution_count": 1,
   "metadata": {},
   "outputs": [],
   "source": [
    "import pandas as pd\n",
    "df = pd.read_csv(\"gold_silver.csv\")"
   ]
  },
  {
   "cell_type": "code",
   "execution_count": 2,
   "metadata": {},
   "outputs": [],
   "source": [
    "from sklearn.model_selection import train_test_split\n",
    "import numpy as np"
   ]
  },
  {
   "cell_type": "code",
   "execution_count": 12,
   "metadata": {},
   "outputs": [
    {
     "name": "stdout",
     "output_type": "stream",
     "text": [
      "[[ 2715]\n",
      " [ 2720]\n",
      " [ 3105]\n",
      " [ 3570]\n",
      " [ 3955]\n",
      " [ 4015]\n",
      " [ 4794]\n",
      " [ 6066]\n",
      " [ 6755]\n",
      " [ 6463]\n",
      " [ 6646]\n",
      " [ 8040]\n",
      " [ 5489]\n",
      " [ 7124]\n",
      " [ 6335]\n",
      " [ 7346]\n",
      " [ 7345]\n",
      " [ 8560]\n",
      " [ 7615]\n",
      " [ 7900]\n",
      " [ 7215]\n",
      " [ 7875]\n",
      " [ 7695]\n",
      " [11770]\n",
      " [10675]\n",
      " [17405]\n",
      " [19520]\n",
      " [23625]\n",
      " [22165]\n",
      " [27255]\n",
      " [56900]\n",
      " [56290]\n",
      " [54030]\n",
      " [43070]\n",
      " [37825]\n",
      " [36990]\n",
      " [37825]\n",
      " [41400]\n",
      " [40600]\n",
      " [63435]]\n"
     ]
    },
    {
     "data": {
      "text/plain": [
       "0     1981\n",
       "1     1982\n",
       "2     1983\n",
       "3     1984\n",
       "4     1985\n",
       "5     1986\n",
       "6     1987\n",
       "7     1988\n",
       "8     1989\n",
       "9     1990\n",
       "10    1991\n",
       "11    1992\n",
       "12    1993\n",
       "13    1994\n",
       "14    1995\n",
       "15    1996\n",
       "16    1997\n",
       "17    1998\n",
       "18    1999\n",
       "19    2000\n",
       "20    2001\n",
       "21    2002\n",
       "22    2003\n",
       "23    2004\n",
       "24    2005\n",
       "25    2006\n",
       "26    2007\n",
       "27    2008\n",
       "28    2009\n",
       "29    2010\n",
       "30    2011\n",
       "31    2012\n",
       "32    2013\n",
       "33    2014\n",
       "34    2015\n",
       "35    2016\n",
       "36    2017\n",
       "37    2018\n",
       "38    2019\n",
       "39    2020\n",
       "Name: Year, dtype: int64"
      ]
     },
     "execution_count": 12,
     "metadata": {},
     "output_type": "execute_result"
    }
   ],
   "source": [
    "x = np.array(df[['Silver_Price']])\n",
    "print(x)\n",
    "y = df.iloc[:,1]\n",
    "y"
   ]
  },
  {
   "cell_type": "code",
   "execution_count": 13,
   "metadata": {},
   "outputs": [],
   "source": [
    "x_train,x_test,y_train,y_test = train_test_split(x,y,random_state = 0,test_size = 0.2)"
   ]
  },
  {
   "cell_type": "code",
   "execution_count": 14,
   "metadata": {},
   "outputs": [],
   "source": [
    "from sklearn.linear_model import LinearRegression\n",
    "regr = LinearRegression()\n",
    "model = regr.fit(x_train,y_train)"
   ]
  },
  {
   "cell_type": "code",
   "execution_count": 15,
   "metadata": {},
   "outputs": [],
   "source": [
    "predictions = model.predict(x_test)"
   ]
  },
  {
   "cell_type": "code",
   "execution_count": 16,
   "metadata": {},
   "outputs": [
    {
     "data": {
      "image/png": "[encoded data removed]",
      "text/plain": [
       "<Figure size 432x288 with 1 Axes>"
      ]
     },
     "metadata": {
      "needs_background": "light"
     },
     "output_type": "display_data"
    }
   ],
   "source": [
    "from matplotlib import pyplot as plt\n",
    "plt.scatter(x_test,y_test,color = 'blue')\n",
    "plt.plot(x_test,model.predict(x_test),color = 'red')\n",
    "plt.xlabel('sample X')\n",
    "plt.ylabel('sample Y')\n",
    "plt.show()"
   ]
  },
  {
   "cell_type": "code",
   "execution_count": 18,
   "metadata": {},
   "outputs": [
    {
     "name": "stdout",
     "output_type": "stream",
     "text": [
      "[1990.97022593]\n"
     ]
    }
   ],
   "source": [
    "predicted_y_2024 = model.predict(2024)\n",
    "print(predicted_y_2024)"
   ]
  },
  {
   "cell_type": "code",
   "execution_count": null,
   "metadata": {},
   "outputs": [],
   "source": []
  }
 ],
 "metadata": {
  "kernelspec": {
   "display_name": "Python 3",
   "language": "python",
   "name": "python3"
  },
  "language_info": {
   "codemirror_mode": {
    "name": "ipython",
    "version": 3
   },
   "file_extension": ".py",
   "mimetype": "text/x-python",
   "name": "python",
   "nbconvert_exporter": "python",
   "pygments_lexer": "ipython3",
   "version": "3.7.0"
  }
 },
 "nbformat": 4,
 "nbformat_minor": 2
}
