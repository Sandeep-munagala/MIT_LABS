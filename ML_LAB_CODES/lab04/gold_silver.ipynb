{
  "cells": [
    {
      "cell_type": "code",
      "source": [
        "import pandas as pd\n",
        "df = pd.read_csv(\"gold_silver.csv\")"
      ],
      "outputs": [],
      "execution_count": 1,
      "metadata": {}
    },
    {
      "cell_type": "code",
      "source": [
        "from sklearn.model_selection import train_test_split\n",
        "import numpy as np"
      ],
      "outputs": [],
      "execution_count": 2,
      "metadata": {}
    },
    {
      "cell_type": "code",
      "source": [
        "x1 = np.array(df[['Silver_Price']])\n",
        "x2 = np.array(df[['Gold_price']])\n",
        "x = np.array(df.iloc[:,0:2])\n",
        "print(x1)\n",
        "y = df.iloc[:,-1]\n",
        "y"
      ],
      "outputs": [
        {
          "output_type": "stream",
          "name": "stdout",
          "text": "[[ 2715]\n [ 2720]\n [ 3105]\n [ 3570]\n [ 3955]\n [ 4015]\n [ 4794]\n [ 6066]\n [ 6755]\n [ 6463]\n [ 6646]\n [ 8040]\n [ 5489]\n [ 7124]\n [ 6335]\n [ 7346]\n [ 7345]\n [ 8560]\n [ 7615]\n [ 7900]\n [ 7215]\n [ 7875]\n [ 7695]\n [11770]\n [10675]\n [17405]\n [19520]\n [23625]\n [22165]\n [27255]\n [56900]\n [56290]\n [54030]\n [43070]\n [37825]\n [36990]\n [37825]\n [41400]\n [40600]\n [63435]]\n"
        },
        {
          "output_type": "execute_result",
          "execution_count": 3,
          "data": {
            "text/plain": "0      1800\n1      1970\n2      2130\n3      2140\n4      2570\n5      3130\n6      3140\n7      3200\n8      3466\n9      4045\n10     4140\n11     4234\n12     4300\n13     4334\n14     4400\n15     4598\n16     4680\n17     4725\n18     4990\n19     5160\n20     5600\n21     5850\n22     7000\n23     8400\n24    10800\n25    12500\n26    14500\n27    18500\n28    26343\n29    26400\n30    28006\n31    28623\n32    29600\n33    29667\n34    31050\n35    31438\n36    35220\n37    48651\n38    50045\n39    52950\nName: Gold_price, dtype: int64"
          },
          "metadata": {}
        }
      ],
      "execution_count": 3,
      "metadata": {}
    },
    {
      "cell_type": "markdown",
      "source": [
        "**implementation by sklearn :**"
      ],
      "metadata": {}
    },
    {
      "cell_type": "code",
      "source": [
        "print(x)"
      ],
      "outputs": [
        {
          "output_type": "stream",
          "name": "stdout",
          "text": "[[ 2715  1981]\n [ 2720  1982]\n [ 3105  1983]\n [ 3570  1984]\n [ 3955  1985]\n [ 4015  1986]\n [ 4794  1987]\n [ 6066  1988]\n [ 6755  1989]\n [ 6463  1990]\n [ 6646  1991]\n [ 8040  1992]\n [ 5489  1993]\n [ 7124  1994]\n [ 6335  1995]\n [ 7346  1996]\n [ 7345  1997]\n [ 8560  1998]\n [ 7615  1999]\n [ 7900  2000]\n [ 7215  2001]\n [ 7875  2002]\n [ 7695  2003]\n [11770  2004]\n [10675  2005]\n [17405  2006]\n [19520  2007]\n [23625  2008]\n [22165  2009]\n [27255  2010]\n [56900  2011]\n [56290  2012]\n [54030  2013]\n [43070  2014]\n [37825  2015]\n [36990  2016]\n [37825  2017]\n [41400  2018]\n [40600  2019]\n [63435  2020]]\n"
        }
      ],
      "execution_count": 4,
      "metadata": {}
    },
    {
      "cell_type": "code",
      "source": [
        "x_train,x_test,y_train,y_test = train_test_split(x,y,random_state = 0,test_size = 0.2)"
      ],
      "outputs": [],
      "execution_count": 5,
      "metadata": {}
    },
    {
      "cell_type": "code",
      "source": [
        "print(x_train.shape)\n",
        "print(y_train.shape)"
      ],
      "outputs": [
        {
          "output_type": "stream",
          "name": "stdout",
          "text": "(32, 2)\n(32,)\n"
        }
      ],
      "execution_count": 6,
      "metadata": {}
    },
    {
      "cell_type": "code",
      "source": [
        "from sklearn.linear_model import LinearRegression\n",
        "from sklearn.metrics import mean_squared_error, mean_absolute_error"
      ],
      "outputs": [],
      "execution_count": 7,
      "metadata": {}
    },
    {
      "cell_type": "code",
      "source": [
        "regr = LinearRegression()\n",
        "model = regr.fit(x_train,y_train)"
      ],
      "outputs": [],
      "execution_count": 8,
      "metadata": {}
    },
    {
      "cell_type": "code",
      "source": [
        "df['Y_hat'] = model.predict(x)\n",
        "predictions = model.predict(x_test)"
      ],
      "outputs": [],
      "execution_count": 9,
      "metadata": {}
    },
    {
      "cell_type": "code",
      "source": [
        "from matplotlib import pyplot as plt\n",
        "plt.plot(x,model.predict(x),color = 'red')\n",
        "plt.xlabel('sample X')\n",
        "plt.ylabel('sample Y')\n",
        "plt.show()"
      ],
      "outputs": [
        {
          "output_type": "display_data",
          "data": {
            "image/png": "[encoded data removed]",
            "text/plain": "<Figure size 640x480 with 1 Axes>"
          },
          "metadata": {}
        }
      ],
      "execution_count": 10,
      "metadata": {}
    },
    {
      "cell_type": "code",
      "source": [
        "print('mean_squared_error : ', mean_squared_error(y_test, predictions))\n",
        "print('root_mean_squared_error : ', np.sqrt(mean_squared_error(y_test, predictions)))"
      ],
      "outputs": [
        {
          "output_type": "stream",
          "name": "stdout",
          "text": "mean_squared_error :  12785561.387563376\nroot_mean_squared_error :  3575.6903372025067\n"
        }
      ],
      "execution_count": 11,
      "metadata": {}
    },
    {
      "cell_type": "code",
      "source": [
        "ans_by_sklearn = model.predict([[1990.97022593,2024]])\n",
        "print(ans_by_sklearn)"
      ],
      "outputs": [
        {
          "output_type": "stream",
          "name": "stdout",
          "text": "[20078.97722582]\n"
        }
      ],
      "execution_count": 12,
      "metadata": {}
    },
    {
      "cell_type": "code",
      "source": [
        "df['Gold_price'].size"
      ],
      "outputs": [
        {
          "output_type": "execute_result",
          "execution_count": 13,
          "data": {
            "text/plain": "40"
          },
          "metadata": {}
        }
      ],
      "execution_count": 13,
      "metadata": {}
    },
    {
      "cell_type": "markdown",
      "source": [
        "**implementation by normal method**"
      ],
      "metadata": {}
    },
    {
      "cell_type": "code",
      "source": [
        "df['x2_square'] = df['Year']*df['Year']\n",
        "sum_x2_square = (np.sum(df['x2_square'])) - ((np.sum(df['Year'])*np.sum(df['Year']))/df['Year'].size)\n",
        "df['x1_square'] = df['Silver_Price']*df['Silver_Price']\n",
        "sum_x1_square = (np.sum(df['x1_square'])) - ((np.sum(df['Silver_Price'])*np.sum(df['Silver_Price']))/df['Silver_Price'].size)\n",
        "df['x1_y'] = df['Silver_Price']*df['Gold_price']\n",
        "sum_x1_y = (np.sum(df['x1_y'])) - ((np.sum(df['Silver_Price'])*np.sum(df['Gold_price']))/df['Gold_price'].size)\n",
        "df['x1_x2'] = df['Silver_Price'] * df['Year']\n",
        "sum_x1_x2 = (np.sum(df['x1_x2'])) - ((np.sum(df['Silver_Price'])*np.sum(df['Year']))/df['Year'].size)\n",
        "df['x2_y'] = df['Gold_price'] * df['Year']\n",
        "sum_x2_y = (np.sum(df['x2_y'])) - ((np.sum(df['Year'])*np.sum(df['Gold_price']))/df['Gold_price'].size)"
      ],
      "outputs": [],
      "execution_count": 14,
      "metadata": {}
    },
    {
      "cell_type": "code",
      "source": [
        "df.head()"
      ],
      "outputs": [
        {
          "output_type": "execute_result",
          "execution_count": 15,
          "data": {
            "text/html": "<div>\n<style scoped>\n    .dataframe tbody tr th:only-of-type {\n        vertical-align: middle;\n    }\n\n    .dataframe tbody tr th {\n        vertical-align: top;\n    }\n\n    .dataframe thead th {\n        text-align: right;\n    }\n</style>\n<table border=\"1\" class=\"dataframe\">\n  <thead>\n    <tr style=\"text-align: right;\">\n      <th></th>\n      <th>Silver_Price</th>\n      <th>Year</th>\n      <th>Gold_price</th>\n      <th>Y_hat</th>\n      <th>x2_square</th>\n      <th>x1_square</th>\n      <th>x1_y</th>\n      <th>x1_x2</th>\n      <th>x2_y</th>\n    </tr>\n  </thead>\n  <tbody>\n    <tr>\n      <th>0</th>\n      <td>2715</td>\n      <td>1981</td>\n      <td>1800</td>\n      <td>-3131.783745</td>\n      <td>3924361</td>\n      <td>7371225</td>\n      <td>4887000</td>\n      <td>5378415</td>\n      <td>3565800</td>\n    </tr>\n    <tr>\n      <th>1</th>\n      <td>2720</td>\n      <td>1982</td>\n      <td>1970</td>\n      <td>-2582.293931</td>\n      <td>3928324</td>\n      <td>7398400</td>\n      <td>5358400</td>\n      <td>5391040</td>\n      <td>3904540</td>\n    </tr>\n    <tr>\n      <th>2</th>\n      <td>3105</td>\n      <td>1983</td>\n      <td>2130</td>\n      <td>-1863.933662</td>\n      <td>3932289</td>\n      <td>9641025</td>\n      <td>6613650</td>\n      <td>6157215</td>\n      <td>4223790</td>\n    </tr>\n    <tr>\n      <th>3</th>\n      <td>3570</td>\n      <td>1984</td>\n      <td>2140</td>\n      <td>-1110.021717</td>\n      <td>3936256</td>\n      <td>12744900</td>\n      <td>7639800</td>\n      <td>7082880</td>\n      <td>4245760</td>\n    </tr>\n    <tr>\n      <th>4</th>\n      <td>3955</td>\n      <td>1985</td>\n      <td>2570</td>\n      <td>-391.661448</td>\n      <td>3940225</td>\n      <td>15642025</td>\n      <td>10164350</td>\n      <td>7850675</td>\n      <td>5101450</td>\n    </tr>\n  </tbody>\n</table>\n</div>",
            "text/plain": "   Silver_Price  Year  Gold_price        Y_hat  x2_square  x1_square  \\\n0          2715  1981        1800 -3131.783745    3924361    7371225   \n1          2720  1982        1970 -2582.293931    3928324    7398400   \n2          3105  1983        2130 -1863.933662    3932289    9641025   \n3          3570  1984        2140 -1110.021717    3936256   12744900   \n4          3955  1985        2570  -391.661448    3940225   15642025   \n\n       x1_y    x1_x2     x2_y  \n0   4887000  5378415  3565800  \n1   5358400  5391040  3904540  \n2   6613650  6157215  4223790  \n3   7639800  7082880  4245760  \n4  10164350  7850675  5101450  "
          },
          "metadata": {}
        }
      ],
      "execution_count": 15,
      "metadata": {}
    },
    {
      "cell_type": "code",
      "source": [
        "b1 = ((sum_x2_square * sum_x1_y)-(sum_x1_x2 * sum_x2_y))/((sum_x1_square * sum_x2_square)-(sum_x1_x2 * sum_x1_x2))"
      ],
      "outputs": [],
      "execution_count": 16,
      "metadata": {}
    },
    {
      "cell_type": "code",
      "source": [
        "b2 = ((sum_x1_square * sum_x2_y)-(sum_x1_x2 * sum_x1_y))/((sum_x1_square * sum_x2_square)-(sum_x1_x2 * sum_x1_x2))"
      ],
      "outputs": [],
      "execution_count": 17,
      "metadata": {}
    },
    {
      "cell_type": "code",
      "source": [
        "print(b1)"
      ],
      "outputs": [
        {
          "output_type": "stream",
          "name": "stdout",
          "text": "0.48121157275102827\n"
        }
      ],
      "execution_count": 18,
      "metadata": {}
    },
    {
      "cell_type": "code",
      "source": [
        "print(b2)"
      ],
      "outputs": [
        {
          "output_type": "stream",
          "name": "stdout",
          "text": "495.99072945961944\n"
        }
      ],
      "execution_count": 19,
      "metadata": {}
    },
    {
      "cell_type": "code",
      "source": [
        "mean_x1 = np.sum(df['Silver_Price'])/df['Silver_Price'].size\n",
        "mean_x2 = np.sum(df['Year'])/df['Year'].size\n",
        "mean_y = np.sum(df['Gold_price'])/df['Gold_price'].size"
      ],
      "outputs": [],
      "execution_count": 20,
      "metadata": {}
    },
    {
      "cell_type": "code",
      "source": [
        "b0 = mean_y - (b1*mean_x1) - (b2*mean_x2)\n",
        "print(b0)"
      ],
      "outputs": [
        {
          "output_type": "stream",
          "name": "stdout",
          "text": "-986775.9731054489\n"
        }
      ],
      "execution_count": 21,
      "metadata": {}
    },
    {
      "cell_type": "code",
      "source": [
        "from matplotlib import pyplot as plt\n",
        "plt.plot(x,(b0 + (b1*x1) + (b2*x2)),color = 'red')\n",
        "plt.xlabel('sample X')\n",
        "plt.ylabel('sample Y')\n",
        "plt.show()"
      ],
      "outputs": [
        {
          "output_type": "display_data",
          "data": {
            "image/png": "[encoded data removed]",
            "text/plain": "<Figure size 640x480 with 1 Axes>"
          },
          "metadata": {}
        }
      ],
      "execution_count": 22,
      "metadata": {
        "scrolled": true
      }
    },
    {
      "cell_type": "code",
      "source": [
        "ans_by_imple = (b0 + (b1*1990.97022593) + (b2*2024))\n",
        "print(ans_by_imple)"
      ],
      "outputs": [
        {
          "output_type": "stream",
          "name": "stdout",
          "text": "18067.34123454115\n"
        }
      ],
      "execution_count": 23,
      "metadata": {}
    },
    {
      "cell_type": "markdown",
      "source": [
        "**NORMAL IMPLEMENTATION : 18607.34123**<p>&nbsp;</p>\n",
        "**SGD IMPLEMENTATION : 20078.97722582**<p>&nbsp;</p>\n",
        "**THEREFORE THERE WAS AN ERROR OF 1471.6359912789.**"
      ],
      "metadata": {}
    },
    {
      "cell_type": "code",
      "source": [],
      "outputs": [],
      "execution_count": null,
      "metadata": {}
    }
  ],
  "metadata": {
    "kernelspec": {
      "display_name": "Python 3 (ipykernel)",
      "language": "python",
      "name": "python3"
    },
    "language_info": {
      "codemirror_mode": {
        "name": "ipython",
        "version": 3
      },
      "file_extension": ".py",
      "mimetype": "text/x-python",
      "name": "python",
      "nbconvert_exporter": "python",
      "pygments_lexer": "ipython3",
      "version": "3.10.9"
    },
    "nteract": {
      "version": "nteract-front-end@1.0.0"
    }
  },
  "nbformat": 4,
  "nbformat_minor": 2
}