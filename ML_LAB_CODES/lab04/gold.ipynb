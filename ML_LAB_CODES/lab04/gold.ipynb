{
 "cells": [
  {
   "cell_type": "code",
   "execution_count": 3,
   "metadata": {},
   "outputs": [],
   "source": [
    "import pandas as pd\n",
    "df = pd.read_csv(\"gold.csv\")"
   ]
  },
  {
   "cell_type": "code",
   "execution_count": 9,
   "metadata": {},
   "outputs": [],
   "source": [
    "from sklearn.model_selection import train_test_split\n",
    "from sklearn.linear_model import LinearRegression\n",
    "import numpy as np"
   ]
  },
  {
   "cell_type": "code",
   "execution_count": 22,
   "metadata": {},
   "outputs": [
    {
     "name": "stdout",
     "output_type": "stream",
     "text": [
      "[[2022]\n",
      " [2021]\n",
      " [2020]\n",
      " [2019]\n",
      " [2018]\n",
      " [2017]\n",
      " [2016]\n",
      " [2015]\n",
      " [2014]\n",
      " [2013]\n",
      " [2012]\n",
      " [2011]\n",
      " [2010]\n",
      " [2009]\n",
      " [2008]\n",
      " [2007]\n",
      " [2006]\n",
      " [2005]\n",
      " [2004]\n",
      " [2003]\n",
      " [2002]\n",
      " [2001]\n",
      " [2000]\n",
      " [1999]\n",
      " [1998]\n",
      " [1997]\n",
      " [1996]\n",
      " [1995]\n",
      " [1994]\n",
      " [1993]\n",
      " [1992]\n",
      " [1991]\n",
      " [1990]\n",
      " [1989]\n",
      " [1988]\n",
      " [1987]\n",
      " [1986]\n",
      " [1985]\n",
      " [1984]\n",
      " [1983]\n",
      " [1982]\n",
      " [1981]\n",
      " [1980]\n",
      " [1979]\n",
      " [1978]\n",
      " [1977]\n",
      " [1976]\n",
      " [1975]\n",
      " [1974]\n",
      " [1973]\n",
      " [1972]\n",
      " [1971]\n",
      " [1970]\n",
      " [1969]\n",
      " [1968]\n",
      " [1967]\n",
      " [1966]\n",
      " [1965]]\n"
     ]
    },
    {
     "data": {
      "text/plain": [
       "0     52950\n",
       "1     50045\n",
       "2     48651\n",
       "3     35220\n",
       "4     31438\n",
       "5     29667\n",
       "6     28623\n",
       "7     26343\n",
       "8     28006\n",
       "9     29600\n",
       "10    31050\n",
       "11    26400\n",
       "12    18500\n",
       "13    14500\n",
       "14    12500\n",
       "15    10800\n",
       "16     8400\n",
       "17     7000\n",
       "18     5850\n",
       "19     5600\n",
       "20     4990\n",
       "21     4300\n",
       "22     4400\n",
       "23     4234\n",
       "24     4045\n",
       "25     4725\n",
       "26     5160\n",
       "27     4680\n",
       "28     4598\n",
       "29     4140\n",
       "30     4334\n",
       "31     3466\n",
       "32     3200\n",
       "33     3140\n",
       "34     3130\n",
       "35     2570\n",
       "36     2140\n",
       "37     2130\n",
       "38     1970\n",
       "39     1800\n",
       "40     1645\n",
       "41     1800\n",
       "42     1330\n",
       "43      937\n",
       "44      685\n",
       "45      486\n",
       "46      432\n",
       "47      540\n",
       "48      506\n",
       "49      279\n",
       "50      202\n",
       "51      193\n",
       "52      184\n",
       "53      176\n",
       "54      162\n",
       "55      103\n",
       "56       84\n",
       "57       72\n",
       "Name: Price, dtype: int64"
      ]
     },
     "execution_count": 22,
     "metadata": {},
     "output_type": "execute_result"
    }
   ],
   "source": [
    "x = np.array(df[['Year']])\n",
    "print(x)\n",
    "y = df.iloc[:,-1]\n",
    "y"
   ]
  },
  {
   "cell_type": "code",
   "execution_count": 23,
   "metadata": {},
   "outputs": [],
   "source": [
    "x_train,x_test,y_train,y_test = train_test_split(x,y,random_state = 0,test_size = 0.2)"
   ]
  },
  {
   "cell_type": "code",
   "execution_count": 24,
   "metadata": {},
   "outputs": [
    {
     "name": "stdout",
     "output_type": "stream",
     "text": [
      "(46,)\n",
      "(46, 1)\n"
     ]
    }
   ],
   "source": [
    "print(y_train.shape)\n",
    "print(x_train.shape)"
   ]
  },
  {
   "cell_type": "code",
   "execution_count": 25,
   "metadata": {},
   "outputs": [],
   "source": [
    "regr = LinearRegression()\n",
    "model = regr.fit(x_train,y_train)"
   ]
  },
  {
   "cell_type": "code",
   "execution_count": 28,
   "metadata": {},
   "outputs": [
    {
     "name": "stdout",
     "output_type": "stream",
     "text": [
      "   Year  Price         Y_hat\n",
      "0  2022  52950  27207.070646\n",
      "1  2021  50045  26591.253295\n",
      "2  2020  48651  25975.435945\n",
      "3  2019  35220  25359.618594\n",
      "4  2018  31438  24743.801244\n"
     ]
    }
   ],
   "source": [
    "df['Y_hat'] = model.predict(x)\n",
    "print(df.head())"
   ]
  },
  {
   "cell_type": "code",
   "execution_count": 30,
   "metadata": {},
   "outputs": [
    {
     "data": {
      "image/png": "[encoded data removed]",
      "text/plain": [
       "<Figure size 432x288 with 1 Axes>"
      ]
     },
     "metadata": {
      "needs_background": "light"
     },
     "output_type": "display_data"
    }
   ],
   "source": [
    "from matplotlib import pyplot as plt\n",
    "plt.scatter(x_test,y_test,color = 'blue')\n",
    "plt.plot(x_test,model.predict(x_test),color = 'red')\n",
    "plt.xlabel('sample X')\n",
    "plt.ylabel('sample Y')\n",
    "plt.show()"
   ]
  },
  {
   "cell_type": "code",
   "execution_count": 31,
   "metadata": {},
   "outputs": [
    {
     "name": "stdout",
     "output_type": "stream",
     "text": [
      "[29054.52269729]\n"
     ]
    }
   ],
   "source": [
    "ans_by_sklearn = model.predict([[2025]])\n",
    "print(ans_by_sklearn)"
   ]
  },
  {
   "cell_type": "markdown",
   "metadata": {},
   "source": [
    "now we need to compute the answer by the basic implementation"
   ]
  },
  {
   "cell_type": "code",
   "execution_count": 32,
   "metadata": {},
   "outputs": [],
   "source": [
    "sum_x = np.sum(x)\n",
    "sum_y = np.sum(y)"
   ]
  },
  {
   "cell_type": "code",
   "execution_count": 44,
   "metadata": {},
   "outputs": [],
   "source": [
    "df['xy'] = df['Price']*df['Year']\n",
    "df['x_square'] = df['Year']*df['Year']"
   ]
  },
  {
   "cell_type": "code",
   "execution_count": 48,
   "metadata": {},
   "outputs": [],
   "source": [
    "sum_xy = np.sum(df['xy'])\n",
    "n = df.shape[0]\n",
    "sum_x_2 = np.sum(df['x_square'])"
   ]
  },
  {
   "cell_type": "markdown",
   "metadata": {},
   "source": [
    "for the values computed now we need to compute the coeff b1 and b0 for the expression"
   ]
  },
  {
   "cell_type": "code",
   "execution_count": 49,
   "metadata": {},
   "outputs": [
    {
     "name": "stdout",
     "output_type": "stream",
     "text": [
      "675.343658679135\n"
     ]
    }
   ],
   "source": [
    "b1 = ((n*sum_xy) - (sum_x*sum_y))/((n*sum_x_2) - (sum_x*sum_x))\n",
    "print(b1)"
   ]
  },
  {
   "cell_type": "code",
   "execution_count": 51,
   "metadata": {},
   "outputs": [
    {
     "name": "stdout",
     "output_type": "stream",
     "text": [
      "-1336226.704266511\n"
     ]
    }
   ],
   "source": [
    "b0 = (sum_y - (sum_x * b1))/n\n",
    "print(b0)"
   ]
  },
  {
   "cell_type": "markdown",
   "metadata": {},
   "source": [
    "from the coeficiemts we can compute the values."
   ]
  },
  {
   "cell_type": "code",
   "execution_count": 53,
   "metadata": {},
   "outputs": [
    {
     "data": {
      "image/png": "[encoded data removed]",
      "text/plain": [
       "<Figure size 432x288 with 1 Axes>"
      ]
     },
     "metadata": {
      "needs_background": "light"
     },
     "output_type": "display_data"
    }
   ],
   "source": [
    "plt.scatter(x,y,color = 'blue')\n",
    "plt.plot(x,(b0 + (b1*x)),color = 'red')\n",
    "plt.show()"
   ]
  },
  {
   "cell_type": "code",
   "execution_count": 55,
   "metadata": {},
   "outputs": [
    {
     "name": "stdout",
     "output_type": "stream",
     "text": [
      "31344.204558737576\n"
     ]
    }
   ],
   "source": [
    "ans_by_imple = (b1*2025) + b0\n",
    "print(ans_by_imple)"
   ]
  },
  {
   "cell_type": "markdown",
   "metadata": {},
   "source": [
    "the difference between the implementation is as given below"
   ]
  },
  {
   "cell_type": "code",
   "execution_count": 57,
   "metadata": {},
   "outputs": [
    {
     "name": "stdout",
     "output_type": "stream",
     "text": [
      "[2289.68186145]\n"
     ]
    }
   ],
   "source": [
    "dif = ans_by_imple - ans_by_sklearn\n",
    "print(dif)"
   ]
  },
  {
   "cell_type": "markdown",
   "metadata": {},
   "source": [
    "**RESULT :**\n",
    "implementation has almost a 2289 higher price than the implementation by sklearn"
   ]
  }
 ],
 "metadata": {
  "kernelspec": {
   "display_name": "Python 3",
   "language": "python",
   "name": "python3"
  },
  "language_info": {
   "codemirror_mode": {
    "name": "ipython",
    "version": 3
   },
   "file_extension": ".py",
   "mimetype": "text/x-python",
   "name": "python",
   "nbconvert_exporter": "python",
   "pygments_lexer": "ipython3",
   "version": "3.7.0"
  }
 },
 "nbformat": 4,
 "nbformat_minor": 2
}
