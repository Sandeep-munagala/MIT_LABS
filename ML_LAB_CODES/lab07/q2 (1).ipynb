{
 "cells": [
  {
   "cell_type": "code",
   "execution_count": 1,
   "metadata": {},
   "outputs": [
    {
     "name": "stdout",
     "output_type": "stream",
     "text": [
      "10\n"
     ]
    }
   ],
   "source": [
    "import pandas as pd\n",
    "import matplotlib.pyplot as plt\n",
    "import numpy as np\n",
    "df = pd.read_csv(\"data.csv\")\n",
    "print(df.shape[0])\n",
    "df.head()\n",
    "x1 = df.iloc[:,0]\n",
    "y = df.iloc[:,2]"
   ]
  },
  {
   "cell_type": "code",
   "execution_count": 2,
   "metadata": {},
   "outputs": [
    {
     "name": "stdout",
     "output_type": "stream",
     "text": [
      "0.1312388873927396 0.289437107263494\n"
     ]
    }
   ],
   "source": [
    "b0 = 0\n",
    "b1 = 0\n",
    "beta1 = []\n",
    "predicted = []\n",
    "err = []\n",
    "alpha = 0.2\n",
    "for i in range(df.shape[0]):\n",
    "    z = b0 + (b1*x1[i])\n",
    "    pred = 1/(1+np.exp(-z))\n",
    "    predicted.append(pred)\n",
    "    error = pred - y[i]\n",
    "    err.append(error)\n",
    "    b0 = b0 + (alpha*error*pred*(1-pred))\n",
    "    b1 = b1 + (alpha*error*pred*(1-pred)*x1[i])\n",
    "    beta1.append(b1)\n",
    "print(b0,b1)"
   ]
  },
  {
   "cell_type": "code",
   "execution_count": 3,
   "metadata": {},
   "outputs": [
    {
     "data": {
      "text/plain": [
       "60.0"
      ]
     },
     "execution_count": 3,
     "metadata": {},
     "output_type": "execute_result"
    }
   ],
   "source": [
    "count = 0\n",
    "\n",
    "for i in range(df.shape[0]):\n",
    "    if predicted[i] > 0.5:\n",
    "        predicted[i] = 1\n",
    "    else:\n",
    "        predicted[i] = 0\n",
    "    if y[i] - predicted[i] == 0 :\n",
    "        count = count + 1\n",
    "accuracy = (count/df.shape[0])*100\n",
    "accuracy"
   ]
  },
  {
   "cell_type": "code",
   "execution_count": 4,
   "metadata": {},
   "outputs": [
    {
     "name": "stdout",
     "output_type": "stream",
     "text": [
      "[0.5, 0.5316803034242827, 0.6033455075016927, 0.5907041020799754, 0.7032617665428113, -0.06290665590965949, -0.13021373701706063, -0.09008981831389773, -0.05875516964181704, -0.08128509380940163] [0.0695271, 0.10832927999182002, 0.206416875003053, 0.246064641713486, 0.3360012454347243, 0.3303441952943444, 0.3146158800626114, 0.30439121730823243, 0.29875334509665297, 0.289437107263494]\n"
     ]
    }
   ],
   "source": [
    "print(err,beta1)"
   ]
  },
  {
   "cell_type": "code",
   "execution_count": 5,
   "metadata": {},
   "outputs": [
    {
     "data": {
      "text/plain": [
       "[<matplotlib.lines.Line2D at 0x7f646527f3c8>]"
      ]
     },
     "execution_count": 5,
     "metadata": {},
     "output_type": "execute_result"
    },
    {
     "data": {
      "image/png": "[encoded data removed]",
      "text/plain": [
       "<Figure size 432x288 with 1 Axes>"
      ]
     },
     "metadata": {
      "needs_background": "light"
     },
     "output_type": "display_data"
    }
   ],
   "source": [
    "plt.plot(err,beta1,color = 'red')"
   ]
  },
  {
   "cell_type": "code",
   "execution_count": 6,
   "metadata": {},
   "outputs": [
    {
     "name": "stderr",
     "output_type": "stream",
     "text": [
      "/home/student/anaconda3/lib/python3.7/site-packages/ipykernel_launcher.py:2: RuntimeWarning: divide by zero encountered in log\n",
      "  \n",
      "/home/student/anaconda3/lib/python3.7/site-packages/ipykernel_launcher.py:3: RuntimeWarning: divide by zero encountered in log\n",
      "  This is separate from the ipykernel package so we can avoid doing imports until\n"
     ]
    },
    {
     "data": {
      "image/png": "[encoded data removed]",
      "text/plain": [
       "<Figure size 432x288 with 1 Axes>"
      ]
     },
     "metadata": {
      "needs_background": "light"
     },
     "output_type": "display_data"
    }
   ],
   "source": [
    "x = np.linspace(0,1,100)\n",
    "Y = -np.log(1-x)\n",
    "z = -np.log(x)\n",
    "plt.plot(x,Y)\n",
    "plt.plot(x,z)\n",
    "plt.show()"
   ]
  },
  {
   "cell_type": "code",
   "execution_count": 7,
   "metadata": {},
   "outputs": [],
   "source": [
    "from sklearn.linear_model import LogisticRegression\n",
    "from sklearn.preprocessing import StandardScaler\n",
    "from sklearn.preprocessing import PolynomialFeatures"
   ]
  },
  {
   "cell_type": "code",
   "execution_count": 8,
   "metadata": {},
   "outputs": [
    {
     "name": "stdout",
     "output_type": "stream",
     "text": [
      "[[2.781084]\n",
      " [1.465489]\n",
      " [3.396562]\n",
      " [1.38807 ]\n",
      " [3.064072]\n",
      " [7.627531]\n",
      " [5.332441]\n",
      " [6.922597]\n",
      " [8.675419]\n",
      " [7.673756]]\n"
     ]
    }
   ],
   "source": [
    "x = np.array(x1)\n",
    "x = x.reshape(-1,1)\n",
    "print(x)"
   ]
  },
  {
   "cell_type": "code",
   "execution_count": 9,
   "metadata": {},
   "outputs": [],
   "source": [
    "model = LogisticRegression(solver='liblinear')\n",
    "model.fit(x, y)\n",
    "y_pred = model.predict(x)"
   ]
  },
  {
   "cell_type": "code",
   "execution_count": 10,
   "metadata": {},
   "outputs": [
    {
     "data": {
      "text/plain": [
       "90.0"
      ]
     },
     "execution_count": 10,
     "metadata": {},
     "output_type": "execute_result"
    }
   ],
   "source": [
    "count = 0\n",
    "\n",
    "for i in range(df.shape[0]):\n",
    "    if y[i] - y_pred[i] == 0 :\n",
    "        count = count + 1\n",
    "accuracy = (count/df.shape[0])*100\n",
    "accuracy"
   ]
  },
  {
   "cell_type": "code",
   "execution_count": null,
   "metadata": {},
   "outputs": [],
   "source": []
  }
 ],
 "metadata": {
  "kernelspec": {
   "display_name": "Python 3",
   "language": "python",
   "name": "python3"
  },
  "language_info": {
   "codemirror_mode": {
    "name": "ipython",
    "version": 3
   },
   "file_extension": ".py",
   "mimetype": "text/x-python",
   "name": "python",
   "nbconvert_exporter": "python",
   "pygments_lexer": "ipython3",
   "version": "3.7.0"
  }
 },
 "nbformat": 4,
 "nbformat_minor": 2
}
