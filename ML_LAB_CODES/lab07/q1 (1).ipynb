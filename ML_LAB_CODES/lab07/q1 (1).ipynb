{
 "cells": [
  {
   "cell_type": "code",
   "execution_count": 1,
   "metadata": {},
   "outputs": [
    {
     "name": "stdout",
     "output_type": "stream",
     "text": [
      "10\n"
     ]
    }
   ],
   "source": [
    "import pandas as pd\n",
    "import matplotlib.pyplot as plt\n",
    "import numpy as np\n",
    "df = pd.read_csv(\"data.csv\")\n",
    "print(df.shape[0])\n",
    "df.head()\n",
    "x1 = df.iloc[:,0]\n",
    "x2 = df.iloc[:,1]\n",
    "y = df.iloc[:,2]"
   ]
  },
  {
   "cell_type": "code",
   "execution_count": 31,
   "metadata": {},
   "outputs": [
    {
     "name": "stdout",
     "output_type": "stream",
     "text": [
      "0.05202905235642054 0.04059430705308911 0.16834919334987708\n"
     ]
    }
   ],
   "source": [
    "b0 = 0\n",
    "b1 = 0\n",
    "b2 = 0\n",
    "beta1 = []\n",
    "beta2 = []\n",
    "predicted = []\n",
    "err = []\n",
    "alpha = 0.1\n",
    "for i in range(df.shape[0]):\n",
    "    z = b0 + (b1*x1[i]) + (b2*x2[i])\n",
    "    pred = 1/(1+np.exp(-z))\n",
    "    predicted.append(pred)\n",
    "    error = pred - y[i]\n",
    "    err.append(error)\n",
    "    b0 = b0 + (alpha*error*pred*(1-pred))\n",
    "    b1 = b1 + (alpha*error*pred*(1-pred)*x1[i])\n",
    "    b2 = b2 + (alpha*error*pred*(1-pred)*x2[i])\n",
    "    beta1.append(b1)\n",
    "    beta2.append(b2)\n",
    "print(b0,b1,b2)"
   ]
  },
  {
   "cell_type": "code",
   "execution_count": 30,
   "metadata": {},
   "outputs": [
    {
     "name": "stdout",
     "output_type": "stream",
     "text": [
      "[0, 1, 1, 1, 1, 1, 1, 1, 1, 1]\n"
     ]
    }
   ],
   "source": [
    "count = 0\n",
    "\n",
    "for i in range(df.shape[0]):\n",
    "    if predicted[i] > 0.5:\n",
    "        predicted[i] = 1\n",
    "    else:\n",
    "        predicted[i] = 0\n",
    "    if y[i] - predicted[i] == 0 :\n",
    "        count = count + 1\n",
    "accuracy = (count/df.shape[0])*100\n",
    "accuracy\n",
    "\n",
    "print(predicted)"
   ]
  },
  {
   "cell_type": "code",
   "execution_count": 14,
   "metadata": {},
   "outputs": [
    {
     "name": "stdout",
     "output_type": "stream",
     "text": [
      "[0.5, 0.5346330004173768, 0.6197851660608761, 0.6036294338827279, 0.7105832743164388, -0.12976312657617672, -0.2119081765812616, -0.20505365118136076, -0.2651512532342569, -0.2249113029877836] [0.03476355, 0.05425704318126276, 0.10386495638118644, 0.12391214986392712, 0.16868889836469242, 0.15751192889277693, 0.13864078137306762, 0.11550192543061147, 0.07068151951488647, 0.04059430705308911] [0.0318817125, 0.06330198763054706, 0.12756973919997078, 0.1542915315632064, 0.19820950442084193, 0.19416623181545803, 0.1867747223302808, 0.1808549216021913, 0.18210554427067793, 0.16834919334987708]\n"
     ]
    }
   ],
   "source": [
    "print(err,beta1,beta2)"
   ]
  },
  {
   "cell_type": "code",
   "execution_count": 17,
   "metadata": {},
   "outputs": [
    {
     "data": {
      "text/plain": [
       "[<matplotlib.lines.Line2D at 0x7fc668a64470>]"
      ]
     },
     "execution_count": 17,
     "metadata": {},
     "output_type": "execute_result"
    },
    {
     "data": {
      "image/png": "[encoded data removed]",
      "text/plain": [
       "<Figure size 432x288 with 1 Axes>"
      ]
     },
     "metadata": {
      "needs_background": "light"
     },
     "output_type": "display_data"
    }
   ],
   "source": [
    "plt.plot(err,beta1,color = 'red')\n",
    "plt.plot(err,beta2,color = 'blue')"
   ]
  },
  {
   "cell_type": "code",
   "execution_count": 19,
   "metadata": {},
   "outputs": [],
   "source": [
    "from sklearn.linear_model import LogisticRegression\n",
    "from sklearn.preprocessing import StandardScaler\n",
    "from sklearn.preprocessing import PolynomialFeatures"
   ]
  },
  {
   "cell_type": "code",
   "execution_count": 24,
   "metadata": {},
   "outputs": [
    {
     "data": {
      "text/plain": [
       "LogisticRegression(C=1.0, class_weight=None, dual=False, fit_intercept=True,\n",
       "          intercept_scaling=1, max_iter=100, multi_class='ovr', n_jobs=1,\n",
       "          penalty='l2', random_state=None, solver='liblinear', tol=0.0001,\n",
       "          verbose=0, warm_start=False)"
      ]
     },
     "execution_count": 24,
     "metadata": {},
     "output_type": "execute_result"
    }
   ],
   "source": [
    "x = np.array(df.iloc[:,1])\n",
    "x = x.reshape(-1,1)\n",
    "model = LogisticRegression(solver='liblinear')\n",
    "model.fit(x, y)"
   ]
  },
  {
   "cell_type": "code",
   "execution_count": 26,
   "metadata": {},
   "outputs": [
    {
     "data": {
      "text/plain": [
       "array([0, 0, 0, 0, 0, 0, 0, 0, 1, 0])"
      ]
     },
     "execution_count": 26,
     "metadata": {},
     "output_type": "execute_result"
    }
   ],
   "source": [
    "y_pred = model.predict(x)\n",
    "y_pred"
   ]
  },
  {
   "cell_type": "code",
   "execution_count": 27,
   "metadata": {},
   "outputs": [
    {
     "data": {
      "text/plain": [
       "60.0"
      ]
     },
     "execution_count": 27,
     "metadata": {},
     "output_type": "execute_result"
    }
   ],
   "source": [
    "count = 0\n",
    "\n",
    "for i in range(df.shape[0]):\n",
    "    if y[i] - y_pred[i] == 0 :\n",
    "        count = count + 1\n",
    "accuracy = (count/df.shape[0])*100\n",
    "accuracy"
   ]
  },
  {
   "cell_type": "markdown",
   "metadata": {},
   "source": [
    "**CONCLUSION :IN BOTH THE CASES WE GOT AN ACCURACY OF 60% FOR ONE EPOCH**"
   ]
  }
 ],
 "metadata": {
  "kernelspec": {
   "display_name": "Python 3",
   "language": "python",
   "name": "python3"
  },
  "language_info": {
   "codemirror_mode": {
    "name": "ipython",
    "version": 3
   },
   "file_extension": ".py",
   "mimetype": "text/x-python",
   "name": "python",
   "nbconvert_exporter": "python",
   "pygments_lexer": "ipython3",
   "version": "3.7.0"
  }
 },
 "nbformat": 4,
 "nbformat_minor": 2
}
