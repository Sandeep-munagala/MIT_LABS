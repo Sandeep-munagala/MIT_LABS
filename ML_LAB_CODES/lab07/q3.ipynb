{
 "cells": [
  {
   "cell_type": "code",
   "execution_count": 1,
   "metadata": {},
   "outputs": [
    {
     "name": "stdout",
     "output_type": "stream",
     "text": [
      "10\n"
     ]
    }
   ],
   "source": [
    "import pandas as pd\n",
    "import matplotlib.pyplot as plt\n",
    "import numpy as np\n",
    "df = pd.read_csv(\"data.csv\")\n",
    "print(df.shape[0])\n",
    "df.head()\n",
    "x1 = np.array(df.iloc[:,0])\n",
    "x2 = np.array(df.iloc[:,1])\n",
    "y = np.array(df.iloc[:,2])"
   ]
  },
  {
   "cell_type": "code",
   "execution_count": 2,
   "metadata": {},
   "outputs": [],
   "source": [
    "def accuracy(b0,b1,b2,x1,x2,y):\n",
    "    count = 0\n",
    "    for j in range(10):\n",
    "        y_pred = b0 + (b1*x1[j]) + (b2*x2[j])\n",
    "        y_pred = sigmoid(y_pred)\n",
    "        if y_pred > 0.5:\n",
    "            y_pred = 1\n",
    "        else:\n",
    "            y_pred = 0\n",
    "        if y[j] == y_pred:\n",
    "            count = count + 1\n",
    "    return count/10"
   ]
  },
  {
   "cell_type": "code",
   "execution_count": 3,
   "metadata": {},
   "outputs": [],
   "source": [
    "def sigmoid(x):\n",
    "    return 1/(1+np.exp(-x))"
   ]
  },
  {
   "cell_type": "code",
   "execution_count": 4,
   "metadata": {},
   "outputs": [],
   "source": [
    "b0 = 0\n",
    "b1 = 0\n",
    "b2 = 0\n",
    "alpha = 0.1\n",
    "acc = []\n",
    "epoch = []\n",
    "for i in range(5):\n",
    "    for j in range(10):\n",
    "        z = b0 + (b1*x1[j]) + (b2*x2[j])\n",
    "        b0 = b0 - (alpha*(sigmoid(z)-y[j]))\n",
    "        b1 = b1 - (alpha*(sigmoid(z)-y[j])*x1[j])\n",
    "        b2 = b2 - (alpha*(sigmoid(z)-y[j])*x2[j])\n",
    "    acc.append(accuracy(b0,b1,b2,x1,x2,y))\n",
    "    epoch.append(i+1)"
   ]
  },
  {
   "cell_type": "code",
   "execution_count": 5,
   "metadata": {},
   "outputs": [
    {
     "data": {
      "text/plain": [
       "[0.5, 0.5, 0.8, 1.0, 1.0]"
      ]
     },
     "execution_count": 5,
     "metadata": {},
     "output_type": "execute_result"
    }
   ],
   "source": [
    "acc"
   ]
  },
  {
   "cell_type": "markdown",
   "metadata": {},
   "source": [
    "**FROM THE OBSERVATION WE GOT AN ACCURACY OF 100% BY THE END OF 4TH EPOCH**"
   ]
  },
  {
   "cell_type": "code",
   "execution_count": 6,
   "metadata": {},
   "outputs": [
    {
     "data": {
      "image/png": "[encoded data removed]",
      "text/plain": [
       "<Figure size 432x288 with 1 Axes>"
      ]
     },
     "metadata": {
      "needs_background": "light"
     },
     "output_type": "display_data"
    }
   ],
   "source": [
    "plt.plot(epoch,acc)\n",
    "plt.show()"
   ]
  },
  {
   "cell_type": "markdown",
   "metadata": {},
   "source": [
    "**BY OBSERVATION IF WE CHANGE THE EPOCH TO 7 THEN WE CAN SEE A CONSTANT THROGHOUT THE GRAPH FROM 4**"
   ]
  },
  {
   "cell_type": "code",
   "execution_count": 13,
   "metadata": {},
   "outputs": [],
   "source": [
    "from sklearn.linear_model import SGDClassifier\n",
    "sgdc = SGDClassifier(max_iter=50, alpha = 0.1)"
   ]
  },
  {
   "cell_type": "code",
   "execution_count": 25,
   "metadata": {},
   "outputs": [
    {
     "name": "stdout",
     "output_type": "stream",
     "text": [
      "[[ 2.781084  2.550537]\n",
      " [ 1.465489  2.362125]\n",
      " [ 3.396562  4.400294]\n",
      " [ 1.38807   1.85022 ]\n",
      " [ 3.064072  3.005306]\n",
      " [ 7.627531  2.759262]\n",
      " [ 5.332441  2.088627]\n",
      " [ 6.922597  1.771064]\n",
      " [ 8.675419 -0.24207 ]\n",
      " [ 7.673756  3.508563]]\n"
     ]
    },
    {
     "data": {
      "text/plain": [
       "SGDClassifier(alpha=0.1, average=False, class_weight=None, epsilon=0.1,\n",
       "       eta0=0.0, fit_intercept=True, l1_ratio=0.15,\n",
       "       learning_rate='optimal', loss='hinge', max_iter=50, n_iter=None,\n",
       "       n_jobs=1, penalty='l2', power_t=0.5, random_state=None,\n",
       "       shuffle=True, tol=None, verbose=0, warm_start=False)"
      ]
     },
     "execution_count": 25,
     "metadata": {},
     "output_type": "execute_result"
    }
   ],
   "source": [
    "x = np.array(df.iloc[:,0:2])\n",
    "print(x)\n",
    "sgdc.fit(x, y)"
   ]
  },
  {
   "cell_type": "code",
   "execution_count": 26,
   "metadata": {},
   "outputs": [],
   "source": [
    "ypred = sgdc.predict(x)"
   ]
  },
  {
   "cell_type": "code",
   "execution_count": 27,
   "metadata": {},
   "outputs": [
    {
     "name": "stdout",
     "output_type": "stream",
     "text": [
      "[0 0 0 0 0 1 1 1 1 1]\n",
      "[0 0 0 0 0 1 1 1 1 1]\n"
     ]
    }
   ],
   "source": [
    "print(ypred)\n",
    "print(y)"
   ]
  },
  {
   "cell_type": "code",
   "execution_count": 28,
   "metadata": {},
   "outputs": [
    {
     "data": {
      "text/plain": [
       "1.0"
      ]
     },
     "execution_count": 28,
     "metadata": {},
     "output_type": "execute_result"
    }
   ],
   "source": [
    "from sklearn.metrics import accuracy_score\n",
    "accuracy_score(ypred,y)"
   ]
  },
  {
   "cell_type": "markdown",
   "metadata": {},
   "source": [
    "**FROM THIS WE CAN VERIFY THAT WE GOT 1 AS ACCURACY AFTER 5 EPOCHS**"
   ]
  },
  {
   "cell_type": "code",
   "execution_count": null,
   "metadata": {},
   "outputs": [],
   "source": []
  }
 ],
 "metadata": {
  "kernelspec": {
   "display_name": "Python 3",
   "language": "python",
   "name": "python3"
  },
  "language_info": {
   "codemirror_mode": {
    "name": "ipython",
    "version": 3
   },
   "file_extension": ".py",
   "mimetype": "text/x-python",
   "name": "python",
   "nbconvert_exporter": "python",
   "pygments_lexer": "ipython3",
   "version": "3.7.0"
  }
 },
 "nbformat": 4,
 "nbformat_minor": 2
}
