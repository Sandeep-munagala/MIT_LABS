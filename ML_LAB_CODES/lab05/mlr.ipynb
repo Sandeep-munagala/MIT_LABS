{
 "cells": [
  {
   "cell_type": "code",
   "execution_count": 41,
   "id": "1a57e772",
   "metadata": {},
   "outputs": [
    {
     "data": {
      "text/html": [
       "<div>\n",
       "<style scoped>\n",
       "    .dataframe tbody tr th:only-of-type {\n",
       "        vertical-align: middle;\n",
       "    }\n",
       "\n",
       "    .dataframe tbody tr th {\n",
       "        vertical-align: top;\n",
       "    }\n",
       "\n",
       "    .dataframe thead th {\n",
       "        text-align: right;\n",
       "    }\n",
       "</style>\n",
       "<table border=\"1\" class=\"dataframe\">\n",
       "  <thead>\n",
       "    <tr style=\"text-align: right;\">\n",
       "      <th></th>\n",
       "      <th>x1</th>\n",
       "      <th>x2</th>\n",
       "      <th>y</th>\n",
       "    </tr>\n",
       "  </thead>\n",
       "  <tbody>\n",
       "    <tr>\n",
       "      <th>0</th>\n",
       "      <td>60</td>\n",
       "      <td>22</td>\n",
       "      <td>140</td>\n",
       "    </tr>\n",
       "    <tr>\n",
       "      <th>1</th>\n",
       "      <td>62</td>\n",
       "      <td>25</td>\n",
       "      <td>155</td>\n",
       "    </tr>\n",
       "    <tr>\n",
       "      <th>2</th>\n",
       "      <td>67</td>\n",
       "      <td>24</td>\n",
       "      <td>159</td>\n",
       "    </tr>\n",
       "    <tr>\n",
       "      <th>3</th>\n",
       "      <td>70</td>\n",
       "      <td>20</td>\n",
       "      <td>179</td>\n",
       "    </tr>\n",
       "    <tr>\n",
       "      <th>4</th>\n",
       "      <td>71</td>\n",
       "      <td>15</td>\n",
       "      <td>192</td>\n",
       "    </tr>\n",
       "  </tbody>\n",
       "</table>\n",
       "</div>"
      ],
      "text/plain": [
       "   x1  x2    y\n",
       "0  60  22  140\n",
       "1  62  25  155\n",
       "2  67  24  159\n",
       "3  70  20  179\n",
       "4  71  15  192"
      ]
     },
     "execution_count": 41,
     "metadata": {},
     "output_type": "execute_result"
    }
   ],
   "source": [
    "import pandas as pd\n",
    "df = pd.read_csv('mlr.csv')\n",
    "df.head()"
   ]
  },
  {
   "cell_type": "code",
   "execution_count": 42,
   "id": "7f23c120",
   "metadata": {},
   "outputs": [],
   "source": [
    "x1 = df['x1']\n",
    "x2 = df['x2']\n",
    "y = df['y']"
   ]
  },
  {
   "cell_type": "code",
   "execution_count": 43,
   "id": "a794112b",
   "metadata": {},
   "outputs": [],
   "source": [
    "import numpy as np\n",
    "x = np.array(df[['x1','x2']])"
   ]
  },
  {
   "cell_type": "code",
   "execution_count": 44,
   "id": "b03e6056",
   "metadata": {},
   "outputs": [],
   "source": [
    "from sklearn.linear_model import LinearRegression\n",
    "from sklearn.model_selection import train_test_split\n",
    "from sklearn.metrics import mean_squared_error"
   ]
  },
  {
   "cell_type": "code",
   "execution_count": 45,
   "id": "528d78b5",
   "metadata": {},
   "outputs": [],
   "source": [
    "train_x,test_x,train_y,test_y = train_test_split(x,y,random_state = 0,test_size = 0.2)\n",
    "regr = LinearRegression()\n",
    "model = regr.fit(train_x,train_y)\n",
    "y_pred = model.predict(test_x)"
   ]
  },
  {
   "cell_type": "code",
   "execution_count": 46,
   "id": "e020ba23",
   "metadata": {},
   "outputs": [
    {
     "data": {
      "text/plain": [
       "73.53687327502638"
      ]
     },
     "execution_count": 46,
     "metadata": {},
     "output_type": "execute_result"
    }
   ],
   "source": [
    "mean_squared_error(test_y,y_pred)"
   ]
  },
  {
   "cell_type": "code",
   "execution_count": 48,
   "id": "95401de9",
   "metadata": {},
   "outputs": [
    {
     "data": {
      "text/plain": [
       "(-3.552348884897947e+66, -2.7726029915962953e+68, -3.889547310049384e+67)"
      ]
     },
     "execution_count": 48,
     "metadata": {},
     "output_type": "execute_result"
    }
   ],
   "source": [
    "#sgd implemenatation...\n",
    "b1 = 0.0\n",
    "b2 = 0.0\n",
    "b0 = 0.0 \n",
    "alpha = 0.01\n",
    "for i in range(5):\n",
    "    for j in range(df.shape[0]):\n",
    "        pred = b0 + (b1*x[j][0])+(b2*x[j][1])\n",
    "        error = pred - y[j]\n",
    "        b0 = b0 - (alpha*error)\n",
    "        b1 = b1 - (alpha*error*x[j][0])\n",
    "        b2 = b2 - (alpha*error*x[j][1])\n",
    "b0,b1,b2"
   ]
  },
  {
   "cell_type": "code",
   "execution_count": 55,
   "id": "7f51f7e6",
   "metadata": {},
   "outputs": [],
   "source": [
    "df['x1_square'] = x1*x1\n",
    "x1_2 = np.sum(df['x1_square']) - ((np.sum(x1)*np.sum(x1))/df.shape[0])\n",
    "df['x2_square'] = x2*x2\n",
    "x2_2 = np.sum(df['x2_square']) - ((np.sum(x2)*np.sum(x2))/df.shape[0])\n",
    "df['y_square'] = y*y\n",
    "y2_2 = np.sum(df['y_square']) - ((np.sum(y)*np.sum(y))/df.shape[0])\n",
    "df['x1y'] = x1*y\n",
    "x1y = np.sum(df['x1y']) - ((np.sum(x1)*np.sum(y))/df.shape[0])\n",
    "df['x2y'] = x2*y\n",
    "x2y = np.sum(df['x2y']) - ((np.sum(x2)*np.sum(y))/df.shape[0])\n",
    "df['x1x2'] = x2*x1\n",
    "x1x2 = np.sum(df['x1x2']) - ((np.sum(x2)*np.sum(x1))/df.shape[0])"
   ]
  },
  {
   "cell_type": "code",
   "execution_count": 56,
   "id": "1f3cd09d",
   "metadata": {},
   "outputs": [],
   "source": [
    "b1 = ((x2_2*x1y)-(x1x2*x2y))/((x1_2*x2_2)-(x1x2*x1x2))\n",
    "b2 = ((x1_2*x2y)-(x1x2*x1y))/((x1_2*x2_2)-(x1x2*x1x2))"
   ]
  },
  {
   "cell_type": "code",
   "execution_count": 57,
   "id": "67734d78",
   "metadata": {},
   "outputs": [],
   "source": [
    "b0 = np.mean(y) - (np.mean(x1)*b1)-(np.mean(x2)*b2)"
   ]
  },
  {
   "cell_type": "code",
   "execution_count": 58,
   "id": "3366e7dd",
   "metadata": {},
   "outputs": [
    {
     "data": {
      "text/plain": [
       "(-6.867487247726768, 3.147893102683522, -1.6561432690175206)"
      ]
     },
     "execution_count": 58,
     "metadata": {},
     "output_type": "execute_result"
    }
   ],
   "source": [
    "b0,b1,b2"
   ]
  },
  {
   "cell_type": "code",
   "execution_count": 62,
   "id": "cda63d9c",
   "metadata": {},
   "outputs": [],
   "source": [
    "from sklearn.linear_model import SGDRegressor\n",
    "alpha = 0.01\n",
    "regr = SGDRegressor(max_iter = 60,alpha = alpha)\n",
    "model = regr.fit(x,y)\n",
    "y_hat = model.predict(x)"
   ]
  },
  {
   "cell_type": "code",
   "execution_count": null,
   "id": "cc5dfd90",
   "metadata": {},
   "outputs": [],
   "source": []
  }
 ],
 "metadata": {
  "kernelspec": {
   "display_name": "Python 3 (ipykernel)",
   "language": "python",
   "name": "python3"
  },
  "language_info": {
   "codemirror_mode": {
    "name": "ipython",
    "version": 3
   },
   "file_extension": ".py",
   "mimetype": "text/x-python",
   "name": "python",
   "nbconvert_exporter": "python",
   "pygments_lexer": "ipython3",
   "version": "3.10.9"
  }
 },
 "nbformat": 4,
 "nbformat_minor": 5
}
