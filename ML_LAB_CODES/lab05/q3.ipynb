{
 "cells": [
  {
   "cell_type": "code",
   "execution_count": 5,
   "metadata": {},
   "outputs": [
    {
     "name": "stdout",
     "output_type": "stream",
     "text": [
      "[[ 2715  1981]\n",
      " [ 2720  1982]\n",
      " [ 3105  1983]\n",
      " [ 3570  1984]\n",
      " [ 3955  1985]\n",
      " [ 4015  1986]\n",
      " [ 4794  1987]\n",
      " [ 6066  1988]\n",
      " [ 6755  1989]\n",
      " [ 6463  1990]\n",
      " [ 6646  1991]\n",
      " [ 8040  1992]\n",
      " [ 5489  1993]\n",
      " [ 7124  1994]\n",
      " [ 6335  1995]\n",
      " [ 7346  1996]\n",
      " [ 7345  1997]\n",
      " [ 8560  1998]\n",
      " [ 7615  1999]\n",
      " [ 7900  2000]\n",
      " [ 7215  2001]\n",
      " [ 7875  2002]\n",
      " [ 7695  2003]\n",
      " [11770  2004]\n",
      " [10675  2005]\n",
      " [17405  2006]\n",
      " [19520  2007]\n",
      " [23625  2008]\n",
      " [22165  2009]\n",
      " [27255  2010]\n",
      " [56900  2011]\n",
      " [56290  2012]\n",
      " [54030  2013]\n",
      " [43070  2014]\n",
      " [37825  2015]\n",
      " [36990  2016]\n",
      " [37825  2017]\n",
      " [41400  2018]\n",
      " [40600  2019]\n",
      " [63435  2020]]\n"
     ]
    },
    {
     "data": {
      "text/plain": [
       "0    1800\n",
       "1    1970\n",
       "2    2130\n",
       "3    2140\n",
       "4    2570\n",
       "Name: Gold_price, dtype: int64"
      ]
     },
     "execution_count": 5,
     "metadata": {},
     "output_type": "execute_result"
    }
   ],
   "source": [
    "import pandas as pd\n",
    "df = pd.read_csv(\"gold_silver.csv\")\n",
    "import numpy as np\n",
    "x = np.array(df.iloc[:,0:2])\n",
    "print(x)\n",
    "y = df.iloc[:,-1]\n",
    "y.head()"
   ]
  },
  {
   "cell_type": "code",
   "execution_count": 6,
   "metadata": {},
   "outputs": [],
   "source": [
    "from sklearn.linear_model import LinearRegression\n",
    "from sklearn.preprocessing import PolynomialFeatures\n",
    "from sklearn.model_selection import train_test_split\n",
    "import matplotlib.pyplot as plt"
   ]
  },
  {
   "cell_type": "code",
   "execution_count": 7,
   "metadata": {},
   "outputs": [],
   "source": [
    "degree = 2\n",
    "poly_features = PolynomialFeatures(degree = degree)\n",
    "train_x,test_x,train_y,test_y = train_test_split(x,y,random_state = 0,test_size = 0.2)"
   ]
  },
  {
   "cell_type": "code",
   "execution_count": 8,
   "metadata": {},
   "outputs": [
    {
     "data": {
      "text/plain": [
       "LinearRegression(copy_X=True, fit_intercept=True, n_jobs=1, normalize=False)"
      ]
     },
     "execution_count": 8,
     "metadata": {},
     "output_type": "execute_result"
    }
   ],
   "source": [
    "train_x = poly_features.fit_transform(train_x)\n",
    "model = LinearRegression()\n",
    "model.fit(train_x,train_y)"
   ]
  },
  {
   "cell_type": "code",
   "execution_count": 10,
   "metadata": {},
   "outputs": [
    {
     "data": {
      "text/plain": [
       "array([14423.12022879])"
      ]
     },
     "execution_count": 10,
     "metadata": {},
     "output_type": "execute_result"
    }
   ],
   "source": [
    "predict_x = [[1990.97022593,2025]]\n",
    "predict_x = poly_features.transform(predict_x)\n",
    "predict_y = model.predict(predict_x)\n",
    "predict_y"
   ]
  },
  {
   "cell_type": "code",
   "execution_count": 15,
   "metadata": {},
   "outputs": [
    {
     "data": {
      "text/plain": [
       "Text(0,0.5,'gold price')"
      ]
     },
     "execution_count": 15,
     "metadata": {},
     "output_type": "execute_result"
    },
    {
     "data": {
      "image/png": "[encoded data removed]",
      "text/plain": [
       "<Figure size 432x288 with 1 Axes>"
      ]
     },
     "metadata": {
      "needs_background": "light"
     },
     "output_type": "display_data"
    }
   ],
   "source": [
    "plt.scatter(x[:,0],y,color = 'blue')\n",
    "k = poly_features.transform(x)\n",
    "plt.plot(x[:,0],model.predict(k),color = 'red')\n",
    "plt.xlabel('silver price')\n",
    "plt.ylabel('gold price')"
   ]
  },
  {
   "cell_type": "code",
   "execution_count": 16,
   "metadata": {},
   "outputs": [
    {
     "data": {
      "text/plain": [
       "Text(0,0.5,'gold price')"
      ]
     },
     "execution_count": 16,
     "metadata": {},
     "output_type": "execute_result"
    },
    {
     "data": {
      "image/png": "[encoded data removed]",
      "text/plain": [
       "<Figure size 432x288 with 1 Axes>"
      ]
     },
     "metadata": {
      "needs_background": "light"
     },
     "output_type": "display_data"
    }
   ],
   "source": [
    "plt.scatter(x[:,1],y,color = 'blue')\n",
    "k = poly_features.transform(x)\n",
    "plt.plot(x[:,1],model.predict(k),color = 'red')\n",
    "plt.xlabel('year')\n",
    "plt.ylabel('gold price')"
   ]
  },
  {
   "cell_type": "code",
   "execution_count": null,
   "metadata": {},
   "outputs": [],
   "source": []
  }
 ],
 "metadata": {
  "kernelspec": {
   "display_name": "Python 3",
   "language": "python",
   "name": "python3"
  },
  "language_info": {
   "codemirror_mode": {
    "name": "ipython",
    "version": 3
   },
   "file_extension": ".py",
   "mimetype": "text/x-python",
   "name": "python",
   "nbconvert_exporter": "python",
   "pygments_lexer": "ipython3",
   "version": "3.7.0"
  }
 },
 "nbformat": 4,
 "nbformat_minor": 2
}
